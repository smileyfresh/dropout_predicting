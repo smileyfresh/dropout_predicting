{
 "cells": [
  {
   "cell_type": "code",
   "execution_count": 15,
   "metadata": {},
   "outputs": [],
   "source": [
    "import pandas as pd\n",
    "import numpy as np\n",
    "import seaborn as sns\n",
    "import matplotlib.pyplot as plt\n",
    "from sklearn.model_selection import train_test_split\n",
    "from sklearn.ensemble import RandomForestClassifier\n",
    "from sklearn.metrics import accuracy_score, confusion_matrix, plot_confusion_matrix, classification_report\n",
    "from imblearn.over_sampling import SMOTE\n",
    "import pickle\n",
    "\n",
    "\n",
    "%matplotlib inline"
   ]
  },
  {
   "cell_type": "code",
   "execution_count": 16,
   "metadata": {},
   "outputs": [],
   "source": [
    "fs_dropouts = pd.read_csv('data/9th_grade_dropouts.csv', index_col='sid')"
   ]
  },
  {
   "cell_type": "code",
   "execution_count": 17,
   "metadata": {},
   "outputs": [
    {
     "name": "stdout",
     "output_type": "stream",
     "text": [
      "<class 'pandas.core.frame.DataFrame'>\n",
      "Int64Index: 52932 entries, 2 to 111990\n",
      "Data columns (total 12 columns):\n",
      " #   Column            Non-Null Count  Dtype  \n",
      "---  ------            --------------  -----  \n",
      " 0   dropout           52932 non-null  int64  \n",
      " 1   male              52932 non-null  float64\n",
      " 2   math_ss           52932 non-null  float64\n",
      " 3   read_ss           52932 non-null  float64\n",
      " 4   gifted            52932 non-null  int64  \n",
      " 5   ever_alternative  52932 non-null  int64  \n",
      " 6   iep               52932 non-null  int64  \n",
      " 7   pct_days_absent   52932 non-null  float64\n",
      " 8   gpa               52932 non-null  float64\n",
      " 9   frpl              52932 non-null  float64\n",
      " 10  ell               52932 non-null  int64  \n",
      " 11  race_num          52932 non-null  int64  \n",
      "dtypes: float64(6), int64(6)\n",
      "memory usage: 5.2 MB\n"
     ]
    }
   ],
   "source": [
    "fs_dropouts.info()"
   ]
  },
  {
   "cell_type": "markdown",
   "metadata": {},
   "source": [
    "OK, let's train/test/split our data"
   ]
  },
  {
   "cell_type": "code",
   "execution_count": 18,
   "metadata": {},
   "outputs": [],
   "source": [
    "X = fs_dropouts.copy()"
   ]
  },
  {
   "cell_type": "code",
   "execution_count": 19,
   "metadata": {
    "scrolled": true
   },
   "outputs": [
    {
     "data": {
      "text/plain": [
       "sid\n",
       "2         0\n",
       "5         0\n",
       "12        1\n",
       "13        0\n",
       "14        0\n",
       "         ..\n",
       "111984    0\n",
       "111985    0\n",
       "111986    0\n",
       "111988    1\n",
       "111990    0\n",
       "Name: dropout, Length: 52932, dtype: int64"
      ]
     },
     "execution_count": 19,
     "metadata": {},
     "output_type": "execute_result"
    }
   ],
   "source": [
    "y = X.pop('dropout')\n",
    "y"
   ]
  },
  {
   "cell_type": "code",
   "execution_count": 20,
   "metadata": {},
   "outputs": [
    {
     "data": {
      "text/html": [
       "<div>\n",
       "<style scoped>\n",
       "    .dataframe tbody tr th:only-of-type {\n",
       "        vertical-align: middle;\n",
       "    }\n",
       "\n",
       "    .dataframe tbody tr th {\n",
       "        vertical-align: top;\n",
       "    }\n",
       "\n",
       "    .dataframe thead th {\n",
       "        text-align: right;\n",
       "    }\n",
       "</style>\n",
       "<table border=\"1\" class=\"dataframe\">\n",
       "  <thead>\n",
       "    <tr style=\"text-align: right;\">\n",
       "      <th></th>\n",
       "      <th>male</th>\n",
       "      <th>math_ss</th>\n",
       "      <th>read_ss</th>\n",
       "      <th>gifted</th>\n",
       "      <th>ever_alternative</th>\n",
       "      <th>iep</th>\n",
       "      <th>pct_days_absent</th>\n",
       "      <th>gpa</th>\n",
       "      <th>frpl</th>\n",
       "      <th>ell</th>\n",
       "      <th>race_num</th>\n",
       "    </tr>\n",
       "    <tr>\n",
       "      <th>sid</th>\n",
       "      <th></th>\n",
       "      <th></th>\n",
       "      <th></th>\n",
       "      <th></th>\n",
       "      <th></th>\n",
       "      <th></th>\n",
       "      <th></th>\n",
       "      <th></th>\n",
       "      <th></th>\n",
       "      <th></th>\n",
       "      <th></th>\n",
       "    </tr>\n",
       "  </thead>\n",
       "  <tbody>\n",
       "    <tr>\n",
       "      <th>2</th>\n",
       "      <td>0.0</td>\n",
       "      <td>-1.0</td>\n",
       "      <td>-1.0</td>\n",
       "      <td>0</td>\n",
       "      <td>1</td>\n",
       "      <td>0</td>\n",
       "      <td>10.664031</td>\n",
       "      <td>1.230000</td>\n",
       "      <td>1.0</td>\n",
       "      <td>0</td>\n",
       "      <td>0</td>\n",
       "    </tr>\n",
       "    <tr>\n",
       "      <th>5</th>\n",
       "      <td>0.0</td>\n",
       "      <td>18.0</td>\n",
       "      <td>46.0</td>\n",
       "      <td>0</td>\n",
       "      <td>0</td>\n",
       "      <td>0</td>\n",
       "      <td>0.969005</td>\n",
       "      <td>2.822795</td>\n",
       "      <td>1.0</td>\n",
       "      <td>0</td>\n",
       "      <td>0</td>\n",
       "    </tr>\n",
       "    <tr>\n",
       "      <th>12</th>\n",
       "      <td>0.0</td>\n",
       "      <td>18.0</td>\n",
       "      <td>35.0</td>\n",
       "      <td>0</td>\n",
       "      <td>1</td>\n",
       "      <td>0</td>\n",
       "      <td>4.746706</td>\n",
       "      <td>0.330000</td>\n",
       "      <td>0.0</td>\n",
       "      <td>0</td>\n",
       "      <td>0</td>\n",
       "    </tr>\n",
       "    <tr>\n",
       "      <th>13</th>\n",
       "      <td>0.0</td>\n",
       "      <td>48.0</td>\n",
       "      <td>80.0</td>\n",
       "      <td>0</td>\n",
       "      <td>0</td>\n",
       "      <td>1</td>\n",
       "      <td>6.850071</td>\n",
       "      <td>2.985000</td>\n",
       "      <td>1.0</td>\n",
       "      <td>0</td>\n",
       "      <td>0</td>\n",
       "    </tr>\n",
       "    <tr>\n",
       "      <th>14</th>\n",
       "      <td>1.0</td>\n",
       "      <td>18.0</td>\n",
       "      <td>30.0</td>\n",
       "      <td>0</td>\n",
       "      <td>0</td>\n",
       "      <td>0</td>\n",
       "      <td>5.802631</td>\n",
       "      <td>2.118500</td>\n",
       "      <td>1.0</td>\n",
       "      <td>0</td>\n",
       "      <td>0</td>\n",
       "    </tr>\n",
       "    <tr>\n",
       "      <th>...</th>\n",
       "      <td>...</td>\n",
       "      <td>...</td>\n",
       "      <td>...</td>\n",
       "      <td>...</td>\n",
       "      <td>...</td>\n",
       "      <td>...</td>\n",
       "      <td>...</td>\n",
       "      <td>...</td>\n",
       "      <td>...</td>\n",
       "      <td>...</td>\n",
       "      <td>...</td>\n",
       "    </tr>\n",
       "    <tr>\n",
       "      <th>111984</th>\n",
       "      <td>1.0</td>\n",
       "      <td>34.0</td>\n",
       "      <td>44.0</td>\n",
       "      <td>0</td>\n",
       "      <td>1</td>\n",
       "      <td>1</td>\n",
       "      <td>9.833898</td>\n",
       "      <td>2.079800</td>\n",
       "      <td>1.0</td>\n",
       "      <td>0</td>\n",
       "      <td>1</td>\n",
       "    </tr>\n",
       "    <tr>\n",
       "      <th>111985</th>\n",
       "      <td>0.0</td>\n",
       "      <td>23.0</td>\n",
       "      <td>51.0</td>\n",
       "      <td>1</td>\n",
       "      <td>1</td>\n",
       "      <td>0</td>\n",
       "      <td>2.291429</td>\n",
       "      <td>3.443500</td>\n",
       "      <td>0.0</td>\n",
       "      <td>0</td>\n",
       "      <td>0</td>\n",
       "    </tr>\n",
       "    <tr>\n",
       "      <th>111986</th>\n",
       "      <td>1.0</td>\n",
       "      <td>4.0</td>\n",
       "      <td>18.0</td>\n",
       "      <td>0</td>\n",
       "      <td>0</td>\n",
       "      <td>1</td>\n",
       "      <td>7.766962</td>\n",
       "      <td>1.695142</td>\n",
       "      <td>1.0</td>\n",
       "      <td>0</td>\n",
       "      <td>0</td>\n",
       "    </tr>\n",
       "    <tr>\n",
       "      <th>111988</th>\n",
       "      <td>1.0</td>\n",
       "      <td>29.0</td>\n",
       "      <td>34.0</td>\n",
       "      <td>0</td>\n",
       "      <td>1</td>\n",
       "      <td>0</td>\n",
       "      <td>15.343004</td>\n",
       "      <td>1.567000</td>\n",
       "      <td>1.0</td>\n",
       "      <td>0</td>\n",
       "      <td>1</td>\n",
       "    </tr>\n",
       "    <tr>\n",
       "      <th>111990</th>\n",
       "      <td>0.0</td>\n",
       "      <td>-1.0</td>\n",
       "      <td>-1.0</td>\n",
       "      <td>0</td>\n",
       "      <td>0</td>\n",
       "      <td>0</td>\n",
       "      <td>3.507937</td>\n",
       "      <td>3.907000</td>\n",
       "      <td>1.0</td>\n",
       "      <td>1</td>\n",
       "      <td>2</td>\n",
       "    </tr>\n",
       "  </tbody>\n",
       "</table>\n",
       "<p>52932 rows × 11 columns</p>\n",
       "</div>"
      ],
      "text/plain": [
       "        male  math_ss  read_ss  gifted  ever_alternative  iep  \\\n",
       "sid                                                             \n",
       "2        0.0     -1.0     -1.0       0                 1    0   \n",
       "5        0.0     18.0     46.0       0                 0    0   \n",
       "12       0.0     18.0     35.0       0                 1    0   \n",
       "13       0.0     48.0     80.0       0                 0    1   \n",
       "14       1.0     18.0     30.0       0                 0    0   \n",
       "...      ...      ...      ...     ...               ...  ...   \n",
       "111984   1.0     34.0     44.0       0                 1    1   \n",
       "111985   0.0     23.0     51.0       1                 1    0   \n",
       "111986   1.0      4.0     18.0       0                 0    1   \n",
       "111988   1.0     29.0     34.0       0                 1    0   \n",
       "111990   0.0     -1.0     -1.0       0                 0    0   \n",
       "\n",
       "        pct_days_absent       gpa  frpl  ell  race_num  \n",
       "sid                                                     \n",
       "2             10.664031  1.230000   1.0    0         0  \n",
       "5              0.969005  2.822795   1.0    0         0  \n",
       "12             4.746706  0.330000   0.0    0         0  \n",
       "13             6.850071  2.985000   1.0    0         0  \n",
       "14             5.802631  2.118500   1.0    0         0  \n",
       "...                 ...       ...   ...  ...       ...  \n",
       "111984         9.833898  2.079800   1.0    0         1  \n",
       "111985         2.291429  3.443500   0.0    0         0  \n",
       "111986         7.766962  1.695142   1.0    0         0  \n",
       "111988        15.343004  1.567000   1.0    0         1  \n",
       "111990         3.507937  3.907000   1.0    1         2  \n",
       "\n",
       "[52932 rows x 11 columns]"
      ]
     },
     "execution_count": 20,
     "metadata": {},
     "output_type": "execute_result"
    }
   ],
   "source": [
    "X"
   ]
  },
  {
   "cell_type": "code",
   "execution_count": 21,
   "metadata": {},
   "outputs": [],
   "source": [
    "X_train, X_test, y_train, y_test = train_test_split(X, y, test_size=0.3, random_state=0)"
   ]
  },
  {
   "cell_type": "code",
   "execution_count": 23,
   "metadata": {},
   "outputs": [
    {
     "data": {
      "text/plain": [
       "RandomForestClassifier(n_estimators=5000)"
      ]
     },
     "execution_count": 23,
     "metadata": {},
     "output_type": "execute_result"
    }
   ],
   "source": [
    "rf = RandomForestClassifier(n_estimators = 5000)\n",
    "rf.fit(X_train, y_train)"
   ]
  },
  {
   "cell_type": "code",
   "execution_count": 24,
   "metadata": {},
   "outputs": [
    {
     "data": {
      "text/plain": [
       "0.8564231738035264"
      ]
     },
     "execution_count": 24,
     "metadata": {},
     "output_type": "execute_result"
    }
   ],
   "source": [
    "y_pred = rf.predict(X_test)\n",
    "rf.score(X_test,y_test)"
   ]
  },
  {
   "cell_type": "code",
   "execution_count": 25,
   "metadata": {},
   "outputs": [
    {
     "data": {
      "text/plain": [
       "array([[12240,   613],\n",
       "       [ 1667,  1360]])"
      ]
     },
     "execution_count": 25,
     "metadata": {},
     "output_type": "execute_result"
    }
   ],
   "source": [
    "cm_rf = confusion_matrix(y_test,y_pred)\n",
    "cm_rf"
   ]
  },
  {
   "cell_type": "code",
   "execution_count": 26,
   "metadata": {},
   "outputs": [
    {
     "data": {
      "image/png": "[encoded data removed]",
      "text/plain": [
       "<Figure size 720x432 with 2 Axes>"
      ]
     },
     "metadata": {
      "needs_background": "light"
     },
     "output_type": "display_data"
    }
   ],
   "source": [
    "fig, ax = plt.subplots(figsize=(10, 6))\n",
    "sns.heatmap(cm_rf, annot=True, fmt = \"g\",cmap = \"Blues\",annot_kws={\"size\": 13})\n",
    "sns.set(font_scale=1.2) # for label size\n",
    "plt.xlabel('Predicted Value')\n",
    "plt.ylabel('True Value')\n",
    "plt.title('Confusion Matrix for RF', fontsize = 16)\n",
    "plt.savefig('confusion-matrix-random-forest.png')"
   ]
  },
  {
   "cell_type": "code",
   "execution_count": 27,
   "metadata": {},
   "outputs": [
    {
     "name": "stdout",
     "output_type": "stream",
     "text": [
      "              precision    recall  f1-score   support\n",
      "\n",
      " Not Dropout       0.88      0.95      0.91     12853\n",
      "     Dropout       0.69      0.45      0.54      3027\n",
      "\n",
      "    accuracy                           0.86     15880\n",
      "   macro avg       0.78      0.70      0.73     15880\n",
      "weighted avg       0.84      0.86      0.84     15880\n",
      "\n"
     ]
    }
   ],
   "source": [
    "score = classification_report(y_test,y_pred, target_names = ['Not Dropout', 'Dropout'])\n",
    "print(score)"
   ]
  },
  {
   "cell_type": "code",
   "execution_count": 28,
   "metadata": {},
   "outputs": [
    {
     "data": {
      "image/png": "[encoded data removed]",
      "text/plain": [
       "<Figure size 720x576 with 1 Axes>"
      ]
     },
     "metadata": {},
     "output_type": "display_data"
    }
   ],
   "source": [
    "# Plot the feature importance\n",
    "feat_scores = pd.Series(rf.feature_importances_,\n",
    "                           index=X.columns)\n",
    "feat_scores = feat_scores.sort_values()\n",
    "ax = feat_scores.plot(kind='barh', \n",
    "                      figsize=(10,8),\n",
    "                      color='b')\n",
    "ax.set_title('Average Gini Importance')\n",
    "ax.set_xlabel('Average contribution to information gain');"
   ]
  },
  {
   "cell_type": "markdown",
   "metadata": {},
   "source": [
    "This is not the best...Let's see if we can improve it. I want my dropout precision to be better! "
   ]
  },
  {
   "cell_type": "code",
   "execution_count": 30,
   "metadata": {},
   "outputs": [
    {
     "name": "stdout",
     "output_type": "stream",
     "text": [
      "length of oversampled data is  60388\n",
      "number of negative case in oversampled data 60388\n",
      "Proportion of no subscription data in oversampled data is  1.0\n"
     ]
    }
   ],
   "source": [
    "#Because class is imbalanced, let's try doing some minority class oversampling\n",
    "os = SMOTE(random_state=0)\n",
    "X_train, X_test, y_train, y_test = train_test_split(X, y, test_size=0.3, random_state=0)\n",
    "X_os, y_os = os.fit_sample(X_train, y_train)\n",
    "print(\"length of oversampled data is \",len(X_os))\n",
    "print(\"number of negative case in oversampled data\",len(y_os == 0))\n",
    "print(\"Proportion of no subscription data in oversampled data is \",len(y_os==0)/len(X_os))"
   ]
  },
  {
   "cell_type": "code",
   "execution_count": 31,
   "metadata": {},
   "outputs": [
    {
     "data": {
      "text/plain": [
       "(60388, 11)"
      ]
     },
     "execution_count": 31,
     "metadata": {},
     "output_type": "execute_result"
    }
   ],
   "source": [
    "X_os.shape"
   ]
  },
  {
   "cell_type": "code",
   "execution_count": 32,
   "metadata": {},
   "outputs": [
    {
     "data": {
      "text/plain": [
       "(37052, 11)"
      ]
     },
     "execution_count": 32,
     "metadata": {},
     "output_type": "execute_result"
    }
   ],
   "source": [
    "X_train.shape"
   ]
  },
  {
   "cell_type": "code",
   "execution_count": 34,
   "metadata": {},
   "outputs": [
    {
     "data": {
      "text/plain": [
       "0.8295340050377834"
      ]
     },
     "execution_count": 34,
     "metadata": {},
     "output_type": "execute_result"
    }
   ],
   "source": [
    "rf.fit(X_os,y_os)\n",
    "y_pred_os = rf.predict(X_test)\n",
    "rf.score(X_test,y_test)\n",
    "\n"
   ]
  },
  {
   "cell_type": "code",
   "execution_count": 35,
   "metadata": {},
   "outputs": [
    {
     "data": {
      "text/plain": [
       "array([[11413,  1440],\n",
       "       [ 1267,  1760]])"
      ]
     },
     "execution_count": 35,
     "metadata": {},
     "output_type": "execute_result"
    }
   ],
   "source": [
    "cm_rf = confusion_matrix(y_test,y_pred_os)\n",
    "cm_rf"
   ]
  },
  {
   "cell_type": "code",
   "execution_count": 36,
   "metadata": {},
   "outputs": [
    {
     "data": {
      "image/png": "[encoded data removed]",
      "text/plain": [
       "<Figure size 720x432 with 2 Axes>"
      ]
     },
     "metadata": {},
     "output_type": "display_data"
    }
   ],
   "source": [
    "fig, ax = plt.subplots(figsize=(10, 6))\n",
    "sns.heatmap(cm_rf, annot=True, fmt = \"g\",cmap = \"Blues\",annot_kws={\"size\": 13})\n",
    "sns.set(font_scale=1.2) # for label size\n",
    "plt.xlabel('Predicted Value')\n",
    "plt.ylabel('True Value')\n",
    "plt.title('Confusion Matrix for RF', fontsize = 16)\n",
    "plt.savefig('confusion-matrix-random-forest-with-SMOTE.png')"
   ]
  },
  {
   "cell_type": "code",
   "execution_count": 37,
   "metadata": {},
   "outputs": [
    {
     "name": "stdout",
     "output_type": "stream",
     "text": [
      "              precision    recall  f1-score   support\n",
      "\n",
      " Not Dropout       0.90      0.89      0.89     12853\n",
      "     Dropout       0.55      0.58      0.57      3027\n",
      "\n",
      "    accuracy                           0.83     15880\n",
      "   macro avg       0.73      0.73      0.73     15880\n",
      "weighted avg       0.83      0.83      0.83     15880\n",
      "\n"
     ]
    }
   ],
   "source": [
    "os_score = classification_report(y_test,y_pred_os, target_names = ['Not Dropout', 'Dropout'])\n",
    "print(os_score)"
   ]
  },
  {
   "cell_type": "code",
   "execution_count": null,
   "metadata": {},
   "outputs": [],
   "source": []
  },
  {
   "cell_type": "markdown",
   "metadata": {},
   "source": [
    "Let's do some more feature engineering...Let's drop the last three cols"
   ]
  },
  {
   "cell_type": "code",
   "execution_count": 43,
   "metadata": {},
   "outputs": [],
   "source": [
    "lowest_features = feat_scores.index[:3]"
   ]
  },
  {
   "cell_type": "code",
   "execution_count": 46,
   "metadata": {},
   "outputs": [],
   "source": [
    "X_new = X.drop(lowest_features, axis=1)"
   ]
  },
  {
   "cell_type": "code",
   "execution_count": 47,
   "metadata": {},
   "outputs": [
    {
     "data": {
      "text/html": [
       "<div>\n",
       "<style scoped>\n",
       "    .dataframe tbody tr th:only-of-type {\n",
       "        vertical-align: middle;\n",
       "    }\n",
       "\n",
       "    .dataframe tbody tr th {\n",
       "        vertical-align: top;\n",
       "    }\n",
       "\n",
       "    .dataframe thead th {\n",
       "        text-align: right;\n",
       "    }\n",
       "</style>\n",
       "<table border=\"1\" class=\"dataframe\">\n",
       "  <thead>\n",
       "    <tr style=\"text-align: right;\">\n",
       "      <th></th>\n",
       "      <th>male</th>\n",
       "      <th>math_ss</th>\n",
       "      <th>read_ss</th>\n",
       "      <th>gifted</th>\n",
       "      <th>ever_alternative</th>\n",
       "      <th>iep</th>\n",
       "      <th>pct_days_absent</th>\n",
       "      <th>gpa</th>\n",
       "      <th>frpl</th>\n",
       "      <th>ell</th>\n",
       "      <th>race_num</th>\n",
       "    </tr>\n",
       "    <tr>\n",
       "      <th>sid</th>\n",
       "      <th></th>\n",
       "      <th></th>\n",
       "      <th></th>\n",
       "      <th></th>\n",
       "      <th></th>\n",
       "      <th></th>\n",
       "      <th></th>\n",
       "      <th></th>\n",
       "      <th></th>\n",
       "      <th></th>\n",
       "      <th></th>\n",
       "    </tr>\n",
       "  </thead>\n",
       "  <tbody>\n",
       "    <tr>\n",
       "      <th>2</th>\n",
       "      <td>0.0</td>\n",
       "      <td>-1.0</td>\n",
       "      <td>-1.0</td>\n",
       "      <td>0</td>\n",
       "      <td>1</td>\n",
       "      <td>0</td>\n",
       "      <td>10.664031</td>\n",
       "      <td>1.230000</td>\n",
       "      <td>1.0</td>\n",
       "      <td>0</td>\n",
       "      <td>0</td>\n",
       "    </tr>\n",
       "    <tr>\n",
       "      <th>5</th>\n",
       "      <td>0.0</td>\n",
       "      <td>18.0</td>\n",
       "      <td>46.0</td>\n",
       "      <td>0</td>\n",
       "      <td>0</td>\n",
       "      <td>0</td>\n",
       "      <td>0.969005</td>\n",
       "      <td>2.822795</td>\n",
       "      <td>1.0</td>\n",
       "      <td>0</td>\n",
       "      <td>0</td>\n",
       "    </tr>\n",
       "    <tr>\n",
       "      <th>12</th>\n",
       "      <td>0.0</td>\n",
       "      <td>18.0</td>\n",
       "      <td>35.0</td>\n",
       "      <td>0</td>\n",
       "      <td>1</td>\n",
       "      <td>0</td>\n",
       "      <td>4.746706</td>\n",
       "      <td>0.330000</td>\n",
       "      <td>0.0</td>\n",
       "      <td>0</td>\n",
       "      <td>0</td>\n",
       "    </tr>\n",
       "    <tr>\n",
       "      <th>13</th>\n",
       "      <td>0.0</td>\n",
       "      <td>48.0</td>\n",
       "      <td>80.0</td>\n",
       "      <td>0</td>\n",
       "      <td>0</td>\n",
       "      <td>1</td>\n",
       "      <td>6.850071</td>\n",
       "      <td>2.985000</td>\n",
       "      <td>1.0</td>\n",
       "      <td>0</td>\n",
       "      <td>0</td>\n",
       "    </tr>\n",
       "    <tr>\n",
       "      <th>14</th>\n",
       "      <td>1.0</td>\n",
       "      <td>18.0</td>\n",
       "      <td>30.0</td>\n",
       "      <td>0</td>\n",
       "      <td>0</td>\n",
       "      <td>0</td>\n",
       "      <td>5.802631</td>\n",
       "      <td>2.118500</td>\n",
       "      <td>1.0</td>\n",
       "      <td>0</td>\n",
       "      <td>0</td>\n",
       "    </tr>\n",
       "    <tr>\n",
       "      <th>...</th>\n",
       "      <td>...</td>\n",
       "      <td>...</td>\n",
       "      <td>...</td>\n",
       "      <td>...</td>\n",
       "      <td>...</td>\n",
       "      <td>...</td>\n",
       "      <td>...</td>\n",
       "      <td>...</td>\n",
       "      <td>...</td>\n",
       "      <td>...</td>\n",
       "      <td>...</td>\n",
       "    </tr>\n",
       "    <tr>\n",
       "      <th>111984</th>\n",
       "      <td>1.0</td>\n",
       "      <td>34.0</td>\n",
       "      <td>44.0</td>\n",
       "      <td>0</td>\n",
       "      <td>1</td>\n",
       "      <td>1</td>\n",
       "      <td>9.833898</td>\n",
       "      <td>2.079800</td>\n",
       "      <td>1.0</td>\n",
       "      <td>0</td>\n",
       "      <td>1</td>\n",
       "    </tr>\n",
       "    <tr>\n",
       "      <th>111985</th>\n",
       "      <td>0.0</td>\n",
       "      <td>23.0</td>\n",
       "      <td>51.0</td>\n",
       "      <td>1</td>\n",
       "      <td>1</td>\n",
       "      <td>0</td>\n",
       "      <td>2.291429</td>\n",
       "      <td>3.443500</td>\n",
       "      <td>0.0</td>\n",
       "      <td>0</td>\n",
       "      <td>0</td>\n",
       "    </tr>\n",
       "    <tr>\n",
       "      <th>111986</th>\n",
       "      <td>1.0</td>\n",
       "      <td>4.0</td>\n",
       "      <td>18.0</td>\n",
       "      <td>0</td>\n",
       "      <td>0</td>\n",
       "      <td>1</td>\n",
       "      <td>7.766962</td>\n",
       "      <td>1.695142</td>\n",
       "      <td>1.0</td>\n",
       "      <td>0</td>\n",
       "      <td>0</td>\n",
       "    </tr>\n",
       "    <tr>\n",
       "      <th>111988</th>\n",
       "      <td>1.0</td>\n",
       "      <td>29.0</td>\n",
       "      <td>34.0</td>\n",
       "      <td>0</td>\n",
       "      <td>1</td>\n",
       "      <td>0</td>\n",
       "      <td>15.343004</td>\n",
       "      <td>1.567000</td>\n",
       "      <td>1.0</td>\n",
       "      <td>0</td>\n",
       "      <td>1</td>\n",
       "    </tr>\n",
       "    <tr>\n",
       "      <th>111990</th>\n",
       "      <td>0.0</td>\n",
       "      <td>-1.0</td>\n",
       "      <td>-1.0</td>\n",
       "      <td>0</td>\n",
       "      <td>0</td>\n",
       "      <td>0</td>\n",
       "      <td>3.507937</td>\n",
       "      <td>3.907000</td>\n",
       "      <td>1.0</td>\n",
       "      <td>1</td>\n",
       "      <td>2</td>\n",
       "    </tr>\n",
       "  </tbody>\n",
       "</table>\n",
       "<p>52932 rows × 11 columns</p>\n",
       "</div>"
      ],
      "text/plain": [
       "        male  math_ss  read_ss  gifted  ever_alternative  iep  \\\n",
       "sid                                                             \n",
       "2        0.0     -1.0     -1.0       0                 1    0   \n",
       "5        0.0     18.0     46.0       0                 0    0   \n",
       "12       0.0     18.0     35.0       0                 1    0   \n",
       "13       0.0     48.0     80.0       0                 0    1   \n",
       "14       1.0     18.0     30.0       0                 0    0   \n",
       "...      ...      ...      ...     ...               ...  ...   \n",
       "111984   1.0     34.0     44.0       0                 1    1   \n",
       "111985   0.0     23.0     51.0       1                 1    0   \n",
       "111986   1.0      4.0     18.0       0                 0    1   \n",
       "111988   1.0     29.0     34.0       0                 1    0   \n",
       "111990   0.0     -1.0     -1.0       0                 0    0   \n",
       "\n",
       "        pct_days_absent       gpa  frpl  ell  race_num  \n",
       "sid                                                     \n",
       "2             10.664031  1.230000   1.0    0         0  \n",
       "5              0.969005  2.822795   1.0    0         0  \n",
       "12             4.746706  0.330000   0.0    0         0  \n",
       "13             6.850071  2.985000   1.0    0         0  \n",
       "14             5.802631  2.118500   1.0    0         0  \n",
       "...                 ...       ...   ...  ...       ...  \n",
       "111984         9.833898  2.079800   1.0    0         1  \n",
       "111985         2.291429  3.443500   0.0    0         0  \n",
       "111986         7.766962  1.695142   1.0    0         0  \n",
       "111988        15.343004  1.567000   1.0    0         1  \n",
       "111990         3.507937  3.907000   1.0    1         2  \n",
       "\n",
       "[52932 rows x 11 columns]"
      ]
     },
     "execution_count": 47,
     "metadata": {},
     "output_type": "execute_result"
    }
   ],
   "source": [
    "X"
   ]
  },
  {
   "cell_type": "code",
   "execution_count": 48,
   "metadata": {},
   "outputs": [
    {
     "data": {
      "text/html": [
       "<div>\n",
       "<style scoped>\n",
       "    .dataframe tbody tr th:only-of-type {\n",
       "        vertical-align: middle;\n",
       "    }\n",
       "\n",
       "    .dataframe tbody tr th {\n",
       "        vertical-align: top;\n",
       "    }\n",
       "\n",
       "    .dataframe thead th {\n",
       "        text-align: right;\n",
       "    }\n",
       "</style>\n",
       "<table border=\"1\" class=\"dataframe\">\n",
       "  <thead>\n",
       "    <tr style=\"text-align: right;\">\n",
       "      <th></th>\n",
       "      <th>male</th>\n",
       "      <th>math_ss</th>\n",
       "      <th>read_ss</th>\n",
       "      <th>ever_alternative</th>\n",
       "      <th>pct_days_absent</th>\n",
       "      <th>gpa</th>\n",
       "      <th>frpl</th>\n",
       "      <th>race_num</th>\n",
       "    </tr>\n",
       "    <tr>\n",
       "      <th>sid</th>\n",
       "      <th></th>\n",
       "      <th></th>\n",
       "      <th></th>\n",
       "      <th></th>\n",
       "      <th></th>\n",
       "      <th></th>\n",
       "      <th></th>\n",
       "      <th></th>\n",
       "    </tr>\n",
       "  </thead>\n",
       "  <tbody>\n",
       "    <tr>\n",
       "      <th>2</th>\n",
       "      <td>0.0</td>\n",
       "      <td>-1.0</td>\n",
       "      <td>-1.0</td>\n",
       "      <td>1</td>\n",
       "      <td>10.664031</td>\n",
       "      <td>1.230000</td>\n",
       "      <td>1.0</td>\n",
       "      <td>0</td>\n",
       "    </tr>\n",
       "    <tr>\n",
       "      <th>5</th>\n",
       "      <td>0.0</td>\n",
       "      <td>18.0</td>\n",
       "      <td>46.0</td>\n",
       "      <td>0</td>\n",
       "      <td>0.969005</td>\n",
       "      <td>2.822795</td>\n",
       "      <td>1.0</td>\n",
       "      <td>0</td>\n",
       "    </tr>\n",
       "    <tr>\n",
       "      <th>12</th>\n",
       "      <td>0.0</td>\n",
       "      <td>18.0</td>\n",
       "      <td>35.0</td>\n",
       "      <td>1</td>\n",
       "      <td>4.746706</td>\n",
       "      <td>0.330000</td>\n",
       "      <td>0.0</td>\n",
       "      <td>0</td>\n",
       "    </tr>\n",
       "    <tr>\n",
       "      <th>13</th>\n",
       "      <td>0.0</td>\n",
       "      <td>48.0</td>\n",
       "      <td>80.0</td>\n",
       "      <td>0</td>\n",
       "      <td>6.850071</td>\n",
       "      <td>2.985000</td>\n",
       "      <td>1.0</td>\n",
       "      <td>0</td>\n",
       "    </tr>\n",
       "    <tr>\n",
       "      <th>14</th>\n",
       "      <td>1.0</td>\n",
       "      <td>18.0</td>\n",
       "      <td>30.0</td>\n",
       "      <td>0</td>\n",
       "      <td>5.802631</td>\n",
       "      <td>2.118500</td>\n",
       "      <td>1.0</td>\n",
       "      <td>0</td>\n",
       "    </tr>\n",
       "    <tr>\n",
       "      <th>...</th>\n",
       "      <td>...</td>\n",
       "      <td>...</td>\n",
       "      <td>...</td>\n",
       "      <td>...</td>\n",
       "      <td>...</td>\n",
       "      <td>...</td>\n",
       "      <td>...</td>\n",
       "      <td>...</td>\n",
       "    </tr>\n",
       "    <tr>\n",
       "      <th>111984</th>\n",
       "      <td>1.0</td>\n",
       "      <td>34.0</td>\n",
       "      <td>44.0</td>\n",
       "      <td>1</td>\n",
       "      <td>9.833898</td>\n",
       "      <td>2.079800</td>\n",
       "      <td>1.0</td>\n",
       "      <td>1</td>\n",
       "    </tr>\n",
       "    <tr>\n",
       "      <th>111985</th>\n",
       "      <td>0.0</td>\n",
       "      <td>23.0</td>\n",
       "      <td>51.0</td>\n",
       "      <td>1</td>\n",
       "      <td>2.291429</td>\n",
       "      <td>3.443500</td>\n",
       "      <td>0.0</td>\n",
       "      <td>0</td>\n",
       "    </tr>\n",
       "    <tr>\n",
       "      <th>111986</th>\n",
       "      <td>1.0</td>\n",
       "      <td>4.0</td>\n",
       "      <td>18.0</td>\n",
       "      <td>0</td>\n",
       "      <td>7.766962</td>\n",
       "      <td>1.695142</td>\n",
       "      <td>1.0</td>\n",
       "      <td>0</td>\n",
       "    </tr>\n",
       "    <tr>\n",
       "      <th>111988</th>\n",
       "      <td>1.0</td>\n",
       "      <td>29.0</td>\n",
       "      <td>34.0</td>\n",
       "      <td>1</td>\n",
       "      <td>15.343004</td>\n",
       "      <td>1.567000</td>\n",
       "      <td>1.0</td>\n",
       "      <td>1</td>\n",
       "    </tr>\n",
       "    <tr>\n",
       "      <th>111990</th>\n",
       "      <td>0.0</td>\n",
       "      <td>-1.0</td>\n",
       "      <td>-1.0</td>\n",
       "      <td>0</td>\n",
       "      <td>3.507937</td>\n",
       "      <td>3.907000</td>\n",
       "      <td>1.0</td>\n",
       "      <td>2</td>\n",
       "    </tr>\n",
       "  </tbody>\n",
       "</table>\n",
       "<p>52932 rows × 8 columns</p>\n",
       "</div>"
      ],
      "text/plain": [
       "        male  math_ss  read_ss  ever_alternative  pct_days_absent       gpa  \\\n",
       "sid                                                                           \n",
       "2        0.0     -1.0     -1.0                 1        10.664031  1.230000   \n",
       "5        0.0     18.0     46.0                 0         0.969005  2.822795   \n",
       "12       0.0     18.0     35.0                 1         4.746706  0.330000   \n",
       "13       0.0     48.0     80.0                 0         6.850071  2.985000   \n",
       "14       1.0     18.0     30.0                 0         5.802631  2.118500   \n",
       "...      ...      ...      ...               ...              ...       ...   \n",
       "111984   1.0     34.0     44.0                 1         9.833898  2.079800   \n",
       "111985   0.0     23.0     51.0                 1         2.291429  3.443500   \n",
       "111986   1.0      4.0     18.0                 0         7.766962  1.695142   \n",
       "111988   1.0     29.0     34.0                 1        15.343004  1.567000   \n",
       "111990   0.0     -1.0     -1.0                 0         3.507937  3.907000   \n",
       "\n",
       "        frpl  race_num  \n",
       "sid                     \n",
       "2        1.0         0  \n",
       "5        1.0         0  \n",
       "12       0.0         0  \n",
       "13       1.0         0  \n",
       "14       1.0         0  \n",
       "...      ...       ...  \n",
       "111984   1.0         1  \n",
       "111985   0.0         0  \n",
       "111986   1.0         0  \n",
       "111988   1.0         1  \n",
       "111990   1.0         2  \n",
       "\n",
       "[52932 rows x 8 columns]"
      ]
     },
     "execution_count": 48,
     "metadata": {},
     "output_type": "execute_result"
    }
   ],
   "source": [
    "X_new"
   ]
  },
  {
   "cell_type": "code",
   "execution_count": 49,
   "metadata": {},
   "outputs": [],
   "source": [
    "X_train, X_test, y_train, y_test = train_test_split(X_new, y, test_size=0.3, random_state=0)"
   ]
  },
  {
   "cell_type": "code",
   "execution_count": 50,
   "metadata": {},
   "outputs": [
    {
     "data": {
      "text/plain": [
       "RandomForestClassifier(n_estimators=5000)"
      ]
     },
     "execution_count": 50,
     "metadata": {},
     "output_type": "execute_result"
    }
   ],
   "source": [
    "rf = RandomForestClassifier(n_estimators = 5000)\n",
    "rf.fit(X_train, y_train)"
   ]
  },
  {
   "cell_type": "code",
   "execution_count": 51,
   "metadata": {},
   "outputs": [
    {
     "data": {
      "text/plain": [
       "0.8534005037783375"
      ]
     },
     "execution_count": 51,
     "metadata": {},
     "output_type": "execute_result"
    }
   ],
   "source": [
    "y_pred = rf.predict(X_test)\n",
    "rf.score(X_test,y_test)"
   ]
  },
  {
   "cell_type": "code",
   "execution_count": 52,
   "metadata": {},
   "outputs": [
    {
     "data": {
      "text/plain": [
       "array([[12212,   641],\n",
       "       [ 1687,  1340]])"
      ]
     },
     "execution_count": 52,
     "metadata": {},
     "output_type": "execute_result"
    }
   ],
   "source": [
    "cm_rf = confusion_matrix(y_test,y_pred)\n",
    "cm_rf"
   ]
  },
  {
   "cell_type": "code",
   "execution_count": 53,
   "metadata": {},
   "outputs": [
    {
     "data": {
      "image/png": "[encoded data removed]",
      "text/plain": [
       "<Figure size 720x432 with 2 Axes>"
      ]
     },
     "metadata": {},
     "output_type": "display_data"
    }
   ],
   "source": [
    "fig, ax = plt.subplots(figsize=(10, 6))\n",
    "sns.heatmap(cm_rf, annot=True, fmt = \"g\",cmap = \"Blues\",annot_kws={\"size\": 13})\n",
    "sns.set(font_scale=1.2) # for label size\n",
    "plt.xlabel('Predicted Value')\n",
    "plt.ylabel('True Value')\n",
    "plt.title('Confusion Matrix for RF with iep, gifted, and ell removed', fontsize = 16)\n",
    "plt.savefig('confusion-matrix-random-forest-removed-features.png')"
   ]
  },
  {
   "cell_type": "code",
   "execution_count": 55,
   "metadata": {},
   "outputs": [
    {
     "name": "stdout",
     "output_type": "stream",
     "text": [
      "              precision    recall  f1-score   support\n",
      "\n",
      " Not Dropout       0.88      0.95      0.91     12853\n",
      "     Dropout       0.68      0.44      0.54      3027\n",
      "\n",
      "    accuracy                           0.85     15880\n",
      "   macro avg       0.78      0.70      0.72     15880\n",
      "weighted avg       0.84      0.85      0.84     15880\n",
      "\n"
     ]
    }
   ],
   "source": [
    "new_score = classification_report(y_test,y_pred, target_names = ['Not Dropout', 'Dropout'])\n",
    "print(new_score)"
   ]
  },
  {
   "cell_type": "code",
   "execution_count": 56,
   "metadata": {},
   "outputs": [
    {
     "data": {
      "text/html": [
       "<div>\n",
       "<style scoped>\n",
       "    .dataframe tbody tr th:only-of-type {\n",
       "        vertical-align: middle;\n",
       "    }\n",
       "\n",
       "    .dataframe tbody tr th {\n",
       "        vertical-align: top;\n",
       "    }\n",
       "\n",
       "    .dataframe thead th {\n",
       "        text-align: right;\n",
       "    }\n",
       "</style>\n",
       "<table border=\"1\" class=\"dataframe\">\n",
       "  <thead>\n",
       "    <tr style=\"text-align: right;\">\n",
       "      <th></th>\n",
       "      <th>male</th>\n",
       "      <th>math_ss</th>\n",
       "      <th>read_ss</th>\n",
       "      <th>gifted</th>\n",
       "      <th>ever_alternative</th>\n",
       "      <th>iep</th>\n",
       "      <th>pct_days_absent</th>\n",
       "      <th>gpa</th>\n",
       "      <th>frpl</th>\n",
       "      <th>ell</th>\n",
       "      <th>race_num</th>\n",
       "    </tr>\n",
       "    <tr>\n",
       "      <th>sid</th>\n",
       "      <th></th>\n",
       "      <th></th>\n",
       "      <th></th>\n",
       "      <th></th>\n",
       "      <th></th>\n",
       "      <th></th>\n",
       "      <th></th>\n",
       "      <th></th>\n",
       "      <th></th>\n",
       "      <th></th>\n",
       "      <th></th>\n",
       "    </tr>\n",
       "  </thead>\n",
       "  <tbody>\n",
       "    <tr>\n",
       "      <th>2</th>\n",
       "      <td>0.0</td>\n",
       "      <td>-1.0</td>\n",
       "      <td>-1.0</td>\n",
       "      <td>0</td>\n",
       "      <td>1</td>\n",
       "      <td>0</td>\n",
       "      <td>10.664031</td>\n",
       "      <td>1.230000</td>\n",
       "      <td>1.0</td>\n",
       "      <td>0</td>\n",
       "      <td>0</td>\n",
       "    </tr>\n",
       "    <tr>\n",
       "      <th>5</th>\n",
       "      <td>0.0</td>\n",
       "      <td>18.0</td>\n",
       "      <td>46.0</td>\n",
       "      <td>0</td>\n",
       "      <td>0</td>\n",
       "      <td>0</td>\n",
       "      <td>0.969005</td>\n",
       "      <td>2.822795</td>\n",
       "      <td>1.0</td>\n",
       "      <td>0</td>\n",
       "      <td>0</td>\n",
       "    </tr>\n",
       "    <tr>\n",
       "      <th>12</th>\n",
       "      <td>0.0</td>\n",
       "      <td>18.0</td>\n",
       "      <td>35.0</td>\n",
       "      <td>0</td>\n",
       "      <td>1</td>\n",
       "      <td>0</td>\n",
       "      <td>4.746706</td>\n",
       "      <td>0.330000</td>\n",
       "      <td>0.0</td>\n",
       "      <td>0</td>\n",
       "      <td>0</td>\n",
       "    </tr>\n",
       "    <tr>\n",
       "      <th>13</th>\n",
       "      <td>0.0</td>\n",
       "      <td>48.0</td>\n",
       "      <td>80.0</td>\n",
       "      <td>0</td>\n",
       "      <td>0</td>\n",
       "      <td>1</td>\n",
       "      <td>6.850071</td>\n",
       "      <td>2.985000</td>\n",
       "      <td>1.0</td>\n",
       "      <td>0</td>\n",
       "      <td>0</td>\n",
       "    </tr>\n",
       "    <tr>\n",
       "      <th>14</th>\n",
       "      <td>1.0</td>\n",
       "      <td>18.0</td>\n",
       "      <td>30.0</td>\n",
       "      <td>0</td>\n",
       "      <td>0</td>\n",
       "      <td>0</td>\n",
       "      <td>5.802631</td>\n",
       "      <td>2.118500</td>\n",
       "      <td>1.0</td>\n",
       "      <td>0</td>\n",
       "      <td>0</td>\n",
       "    </tr>\n",
       "    <tr>\n",
       "      <th>...</th>\n",
       "      <td>...</td>\n",
       "      <td>...</td>\n",
       "      <td>...</td>\n",
       "      <td>...</td>\n",
       "      <td>...</td>\n",
       "      <td>...</td>\n",
       "      <td>...</td>\n",
       "      <td>...</td>\n",
       "      <td>...</td>\n",
       "      <td>...</td>\n",
       "      <td>...</td>\n",
       "    </tr>\n",
       "    <tr>\n",
       "      <th>111984</th>\n",
       "      <td>1.0</td>\n",
       "      <td>34.0</td>\n",
       "      <td>44.0</td>\n",
       "      <td>0</td>\n",
       "      <td>1</td>\n",
       "      <td>1</td>\n",
       "      <td>9.833898</td>\n",
       "      <td>2.079800</td>\n",
       "      <td>1.0</td>\n",
       "      <td>0</td>\n",
       "      <td>1</td>\n",
       "    </tr>\n",
       "    <tr>\n",
       "      <th>111985</th>\n",
       "      <td>0.0</td>\n",
       "      <td>23.0</td>\n",
       "      <td>51.0</td>\n",
       "      <td>1</td>\n",
       "      <td>1</td>\n",
       "      <td>0</td>\n",
       "      <td>2.291429</td>\n",
       "      <td>3.443500</td>\n",
       "      <td>0.0</td>\n",
       "      <td>0</td>\n",
       "      <td>0</td>\n",
       "    </tr>\n",
       "    <tr>\n",
       "      <th>111986</th>\n",
       "      <td>1.0</td>\n",
       "      <td>4.0</td>\n",
       "      <td>18.0</td>\n",
       "      <td>0</td>\n",
       "      <td>0</td>\n",
       "      <td>1</td>\n",
       "      <td>7.766962</td>\n",
       "      <td>1.695142</td>\n",
       "      <td>1.0</td>\n",
       "      <td>0</td>\n",
       "      <td>0</td>\n",
       "    </tr>\n",
       "    <tr>\n",
       "      <th>111988</th>\n",
       "      <td>1.0</td>\n",
       "      <td>29.0</td>\n",
       "      <td>34.0</td>\n",
       "      <td>0</td>\n",
       "      <td>1</td>\n",
       "      <td>0</td>\n",
       "      <td>15.343004</td>\n",
       "      <td>1.567000</td>\n",
       "      <td>1.0</td>\n",
       "      <td>0</td>\n",
       "      <td>1</td>\n",
       "    </tr>\n",
       "    <tr>\n",
       "      <th>111990</th>\n",
       "      <td>0.0</td>\n",
       "      <td>-1.0</td>\n",
       "      <td>-1.0</td>\n",
       "      <td>0</td>\n",
       "      <td>0</td>\n",
       "      <td>0</td>\n",
       "      <td>3.507937</td>\n",
       "      <td>3.907000</td>\n",
       "      <td>1.0</td>\n",
       "      <td>1</td>\n",
       "      <td>2</td>\n",
       "    </tr>\n",
       "  </tbody>\n",
       "</table>\n",
       "<p>52932 rows × 11 columns</p>\n",
       "</div>"
      ],
      "text/plain": [
       "        male  math_ss  read_ss  gifted  ever_alternative  iep  \\\n",
       "sid                                                             \n",
       "2        0.0     -1.0     -1.0       0                 1    0   \n",
       "5        0.0     18.0     46.0       0                 0    0   \n",
       "12       0.0     18.0     35.0       0                 1    0   \n",
       "13       0.0     48.0     80.0       0                 0    1   \n",
       "14       1.0     18.0     30.0       0                 0    0   \n",
       "...      ...      ...      ...     ...               ...  ...   \n",
       "111984   1.0     34.0     44.0       0                 1    1   \n",
       "111985   0.0     23.0     51.0       1                 1    0   \n",
       "111986   1.0      4.0     18.0       0                 0    1   \n",
       "111988   1.0     29.0     34.0       0                 1    0   \n",
       "111990   0.0     -1.0     -1.0       0                 0    0   \n",
       "\n",
       "        pct_days_absent       gpa  frpl  ell  race_num  \n",
       "sid                                                     \n",
       "2             10.664031  1.230000   1.0    0         0  \n",
       "5              0.969005  2.822795   1.0    0         0  \n",
       "12             4.746706  0.330000   0.0    0         0  \n",
       "13             6.850071  2.985000   1.0    0         0  \n",
       "14             5.802631  2.118500   1.0    0         0  \n",
       "...                 ...       ...   ...  ...       ...  \n",
       "111984         9.833898  2.079800   1.0    0         1  \n",
       "111985         2.291429  3.443500   0.0    0         0  \n",
       "111986         7.766962  1.695142   1.0    0         0  \n",
       "111988        15.343004  1.567000   1.0    0         1  \n",
       "111990         3.507937  3.907000   1.0    1         2  \n",
       "\n",
       "[52932 rows x 11 columns]"
      ]
     },
     "execution_count": 56,
     "metadata": {},
     "output_type": "execute_result"
    }
   ],
   "source": [
    "X"
   ]
  },
  {
   "cell_type": "markdown",
   "metadata": {},
   "source": []
  }
 ],
 "metadata": {
  "kernelspec": {
   "display_name": "Python 3",
   "language": "python",
   "name": "python3"
  },
  "language_info": {
   "codemirror_mode": {
    "name": "ipython",
    "version": 3
   },
   "file_extension": ".py",
   "mimetype": "text/x-python",
   "name": "python",
   "nbconvert_exporter": "python",
   "pygments_lexer": "ipython3",
   "version": "3.7.7"
  }
 },
 "nbformat": 4,
 "nbformat_minor": 4
}
